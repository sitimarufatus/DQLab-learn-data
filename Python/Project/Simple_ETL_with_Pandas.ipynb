{
  "nbformat": 4,
  "nbformat_minor": 0,
  "metadata": {
    "colab": {
      "name": "Simple ETL with Pandas.ipynb",
      "provenance": [],
      "collapsed_sections": []
    },
    "kernelspec": {
      "name": "python3",
      "display_name": "Python 3"
    },
    "language_info": {
      "name": "python"
    }
  },
  "cells": [
    {
      "cell_type": "markdown",
      "metadata": {
        "id": "vtU-ftl-xhd9"
      },
      "source": [
        "#Simple ETL with Pandas\n",
        "Extract, Transform dan Load (ETL) merupakan kumpulan proses untuk \"memindahkan\" data dari satu tempat ke tempat lain, yaitu dari sumber data (bisa berupa database aplikasi, file, logs, database dari 3rd party, dan lainnya) ke data warehouse."
      ]
    },
    {
      "cell_type": "code",
      "metadata": {
        "colab": {
          "base_uri": "https://localhost:8080/"
        },
        "id": "GRsiL-DTwve6",
        "outputId": "9f706bdd-a286-42b7-88c8-e7fc9a814633"
      },
      "source": [
        "#Extract\n",
        "import pandas as pd\n",
        "df_participant = pd.read_csv('https://storage.googleapis.com/dqlab-dataset/dqthon-participants.csv')\n",
        "\n",
        "print(df_participant.shape)\n",
        "print(df_participant.info())\n",
        "print(df_participant.head())"
      ],
      "execution_count": 10,
      "outputs": [
        {
          "output_type": "stream",
          "name": "stdout",
          "text": [
            "(5000, 10)\n",
            "<class 'pandas.core.frame.DataFrame'>\n",
            "RangeIndex: 5000 entries, 0 to 4999\n",
            "Data columns (total 10 columns):\n",
            " #   Column          Non-Null Count  Dtype  \n",
            "---  ------          --------------  -----  \n",
            " 0   participant_id  5000 non-null   object \n",
            " 1   first_name      5000 non-null   object \n",
            " 2   last_name       5000 non-null   object \n",
            " 3   birth_date      5000 non-null   object \n",
            " 4   address         5000 non-null   object \n",
            " 5   phone_number    5000 non-null   object \n",
            " 6   country         5000 non-null   object \n",
            " 7   institute       5000 non-null   object \n",
            " 8   occupation      5000 non-null   object \n",
            " 9   register_time   5000 non-null   float64\n",
            "dtypes: float64(1), object(9)\n",
            "memory usage: 390.8+ KB\n",
            "None\n",
            "                         participant_id  ... register_time\n",
            "0  bd9b6f88-b84f-4c4d-90f8-b67fe2f1a29a  ...  1.617634e+09\n",
            "1  7dfe3391-6f40-47b6-b4db-0c76ebaf5fc3  ...  1.617634e+09\n",
            "2  19582d7f-b824-4fe5-a517-d5bf573fc768  ...  1.617634e+09\n",
            "3  aeb6d817-25f3-4867-8a74-8d92e0a0f633  ...  1.617634e+09\n",
            "4  1fdabdd9-5444-4c97-87b2-fe8833ad0d27  ...  1.617634e+09\n",
            "\n",
            "[5 rows x 10 columns]\n"
          ]
        }
      ]
    },
    {
      "cell_type": "markdown",
      "metadata": {
        "id": "uOQOkFejx-I9"
      },
      "source": [
        "#####Transform\n",
        "* Merubah nilai dari suatu kolom ke nilai baru,\n",
        "* Menciptakan kolom baru dengan memanfaatkan kolom lain,\n",
        "* Transpose baris menjadi kolom (atau sebaliknya),\n",
        "* Mengubah format data ke bentuk yang lebih standard (contohnya, kolom date maupun datetime yang biasanya memiliki nilai yang tidak standard maupun nomor * HP yang biasanya memiliki nilai yang tidak sesuai format standardnya), dan lainnya. \n"
      ]
    },
    {
      "cell_type": "code",
      "metadata": {
        "colab": {
          "base_uri": "https://localhost:8080/"
        },
        "id": "aIDTsrTHx1mR",
        "outputId": "b95ff76d-bc43-4bdf-e2cb-5070fc812315"
      },
      "source": [
        "print(df_participant['address'].head())\n",
        "\n",
        "#Transform Bagian I - Kode Pos\n",
        "df_participant['postal_code'] = df_participant['address'].str.extract(r'(\\d+)$') #Masukkan regex didalam fungsi extract\n",
        "print(df_participant['postal_code'].head())"
      ],
      "execution_count": 13,
      "outputs": [
        {
          "output_type": "stream",
          "name": "stdout",
          "text": [
            "0             Gg. Monginsidi No. 08\\nMedan, Aceh 80734\n",
            "1       Gg. Rajawali Timur No. 7\\nPrabumulih, MA 09434\n",
            "2               Jalan Kebonjati No. 0\\nAmbon, SS 57739\n",
            "3      Jl. Yos Sudarso No. 109\\nLubuklinggau, SR 76156\n",
            "4    Jalan Gardujati No. 53\\nKediri, Sulawesi Tenga...\n",
            "Name: address, dtype: object\n",
            "0    80734\n",
            "1    09434\n",
            "2    57739\n",
            "3    76156\n",
            "4    70074\n",
            "Name: postal_code, dtype: object\n"
          ]
        }
      ]
    },
    {
      "cell_type": "code",
      "metadata": {
        "colab": {
          "base_uri": "https://localhost:8080/"
        },
        "id": "szCLvnhoyYg5",
        "outputId": "818591f8-90d4-4ed1-af9b-3e93eba66020"
      },
      "source": [
        "#Transform Bagian II - Kota\n",
        "#Masukkan regex didalam fungsi extract\n",
        "df_participant['city'] = df_participant['address'].str.extract(r'(?<=\\n)(\\w.+)(?=,)')\n",
        "print(df_participant['city'].head())"
      ],
      "execution_count": 14,
      "outputs": [
        {
          "output_type": "stream",
          "name": "stdout",
          "text": [
            "0           Medan\n",
            "1      Prabumulih\n",
            "2           Ambon\n",
            "3    Lubuklinggau\n",
            "4          Kediri\n",
            "Name: city, dtype: object\n"
          ]
        }
      ]
    },
    {
      "cell_type": "code",
      "metadata": {
        "colab": {
          "base_uri": "https://localhost:8080/"
        },
        "id": "bQWIk3bEyel8",
        "outputId": "85c91db4-b319-49a5-839c-bde14ed7b590"
      },
      "source": [
        "print(df_participant[['first_name', 'last_name']].head())\n",
        "#Transform Bagian III - Github\n",
        "df_participant['github_profile'] = 'https://github.com/' + df_participant['first_name'].str.lower() + df_participant['last_name'].str.lower()\n",
        "print(df_participant['github_profile'].head())"
      ],
      "execution_count": 23,
      "outputs": [
        {
          "output_type": "stream",
          "name": "stdout",
          "text": [
            "  first_name   last_name\n",
            "0      Citra  Nurdiyanti\n",
            "1       Aris    Setiawan\n",
            "2   Cornelia   Handayani\n",
            "3      Soleh      Rajasa\n",
            "4       Vivi      Astuti\n",
            "0      https://github.com/citranurdiyanti\n",
            "1         https://github.com/arissetiawan\n",
            "2    https://github.com/corneliahandayani\n",
            "3          https://github.com/solehrajasa\n",
            "4           https://github.com/viviastuti\n",
            "Name: github_profile, dtype: object\n"
          ]
        }
      ]
    },
    {
      "cell_type": "code",
      "metadata": {
        "colab": {
          "base_uri": "https://localhost:8080/"
        },
        "id": "46-dlit3yitg",
        "outputId": "2fff0d53-c6ed-4fac-ca3f-edfe7ddcc014"
      },
      "source": [
        "#Transform Bagian IV - Nomor Handphone\n",
        "#Jika awalan nomor HP berupa angka 62 atau +62 yang merupakan kode telepon Indonesia, maka diterjemahkan ke 0.\n",
        "#Tidak ada tanda baca seperti kurung buka, kurung tutup, strip⟶ ()-\n",
        "#Tidak ada spasi pada nomor HP nama kolom untuk menyimpan hasil cleansing pada nomor HP yaitu cleaned_phone_number\n",
        "print(df_participant['phone_number'].head())\n",
        "#Masukkan regex pada parameter pertama dari fungsi replace\n",
        "df_participant['cleaned_phone_number'] = df_participant['phone_number'].str.replace(r'^(\\+62|62)', '0')\n",
        "df_participant['cleaned_phone_number'] = df_participant['cleaned_phone_number'].str.replace(r'[()-]', '')\n",
        "df_participant['cleaned_phone_number'] = df_participant['cleaned_phone_number'].str.replace(r'\\s+', '')\n",
        "\n",
        "print(df_participant['cleaned_phone_number'].head())"
      ],
      "execution_count": 31,
      "outputs": [
        {
          "output_type": "stream",
          "name": "stdout",
          "text": [
            "0       (0151) 081 2706\n",
            "1    +62 (036) 461 7027\n",
            "2          089 833 6695\n",
            "3    +62 (418) 329-4756\n",
            "4            0812511835\n",
            "Name: phone_number, dtype: object\n",
            "0    01510812706\n",
            "1    00364617027\n",
            "2     0898336695\n",
            "3    04183294756\n",
            "4     0812511835\n",
            "Name: cleaned_phone_number, dtype: object\n"
          ]
        }
      ]
    },
    {
      "cell_type": "code",
      "metadata": {
        "colab": {
          "base_uri": "https://localhost:8080/"
        },
        "id": "CLOITe-yy1Ce",
        "outputId": "fb350af1-0264-43ab-dfeb-f0eda6947ca5"
      },
      "source": [
        "print(df_participant[['first_name','last_name','country','institute']].head())\n",
        "\n",
        "#Transform Bagian V - Nama Tim\n",
        "def func(col):\n",
        "    abbrev_name = \"%s%s\"%(col['first_name'][0],col['last_name'][0]) #Singkatan dari Nama Depan dan Nama Belakang dengan mengambil huruf pertama\n",
        "    country = col['country']\n",
        "    abbrev_institute = '%s'%(''.join(list(map(lambda word: word[0], col['institute'].split())))) #Singkatan dari value di kolom institute\n",
        "    return \"%s-%s-%s\"%(abbrev_name,country,abbrev_institute)\n",
        "\n",
        "df_participant['team_name'] = df_participant.apply(func, axis=1)\n",
        "print(df_participant['team_name'].head())"
      ],
      "execution_count": 32,
      "outputs": [
        {
          "output_type": "stream",
          "name": "stdout",
          "text": [
            "  first_name   last_name      country                  institute\n",
            "0      Citra  Nurdiyanti      Georgia       UD Prakasa Mandasari\n",
            "1       Aris    Setiawan  Korea Utara     Universitas Diponegoro\n",
            "2   Cornelia   Handayani       Komoro   UD Hardiansyah Puspasari\n",
            "3      Soleh      Rajasa      Eritrea  Perum Tampubolon Yuliarti\n",
            "4       Vivi      Astuti     Aljazair     PT Hardiansyah Rahimah\n",
            "0       CN-Georgia-UPM\n",
            "1    AS-Korea Utara-UD\n",
            "2        CH-Komoro-UHP\n",
            "3       SR-Eritrea-PTY\n",
            "4      VA-Aljazair-PHR\n",
            "Name: team_name, dtype: object\n"
          ]
        }
      ]
    },
    {
      "cell_type": "code",
      "metadata": {
        "colab": {
          "base_uri": "https://localhost:8080/"
        },
        "id": "b9gNwSDsy4NN",
        "outputId": "0dedc383-9dc1-4a66-fa50-b9c898577eb6"
      },
      "source": [
        "#Transform Bagian VI - Email\n",
        "def func(col):\n",
        "    first_name_lower = col['first_name'].lower()\n",
        "    last_name_lower = col['last_name'].lower()\n",
        "    institute = ''.join(list(map(lambda word: word[0], col['institute'].lower().split()))) #Singkatan dari nama perusahaan dalam lowercase\n",
        "\n",
        "    if 'Universitas' in col['institute']:\n",
        "        if len(col['country'].split()) > 1: #Kondisi untuk mengecek apakah jumlah kata dari country lebih dari 1\n",
        "            country = ''.join(list(map(lambda word: word[0], col['country'].lower().split())))\n",
        "        else:\n",
        "            country = col['country'][:3].lower()\n",
        "        return \"%s%s@%s.ac.%s\"%(first_name_lower,last_name_lower,institute,country)\n",
        "\n",
        "    return \"%s%s@%s.com\"%(first_name_lower,last_name_lower,institute)\n",
        "\n",
        "df_participant['email'] = df_participant.apply(func, axis=1)\n",
        "print(df_participant['email'].head())"
      ],
      "execution_count": 33,
      "outputs": [
        {
          "output_type": "stream",
          "name": "stdout",
          "text": [
            "0      citranurdiyanti@upm.com\n",
            "1        arissetiawan@ud.ac.ku\n",
            "2    corneliahandayani@uhp.com\n",
            "3          solehrajasa@pty.com\n",
            "4           viviastuti@phr.com\n",
            "Name: email, dtype: object\n"
          ]
        }
      ]
    },
    {
      "cell_type": "code",
      "metadata": {
        "colab": {
          "base_uri": "https://localhost:8080/"
        },
        "id": "hJV-O3HPzEJr",
        "outputId": "1e153309-5d28-40be-9b6d-50bbe093d2b6"
      },
      "source": [
        "# Transform Bagian VII - Tanggal Lahir\n",
        "df_participant['birth_date'] = pd.to_datetime(df_participant['birth_date'], format='%d %b %Y')\n",
        "print(df_participant['birth_date'].head())"
      ],
      "execution_count": 39,
      "outputs": [
        {
          "output_type": "stream",
          "name": "stdout",
          "text": [
            "0   1991-02-05\n",
            "1   1993-01-11\n",
            "2   1993-07-31\n",
            "3   1991-11-04\n",
            "4   2003-01-22\n",
            "Name: birth_date, dtype: datetime64[ns]\n"
          ]
        }
      ]
    },
    {
      "cell_type": "code",
      "metadata": {
        "colab": {
          "base_uri": "https://localhost:8080/"
        },
        "id": "tGjsD-LszJM8",
        "outputId": "21234940-f227-4de2-9d7c-fdf5668eb7cf"
      },
      "source": [
        "#Transform Bagian VII - Tanggal Daftar Kompetisi\n",
        "df_participant['register_at'] = pd.to_datetime(df_participant['register_time'], unit='s')\n",
        "print(df_participant['register_time'].head())"
      ],
      "execution_count": 40,
      "outputs": [
        {
          "output_type": "stream",
          "name": "stdout",
          "text": [
            "0    1.617634e+09\n",
            "1    1.617634e+09\n",
            "2    1.617634e+09\n",
            "3    1.617634e+09\n",
            "4    1.617634e+09\n",
            "Name: register_time, dtype: float64\n"
          ]
        }
      ]
    },
    {
      "cell_type": "code",
      "metadata": {
        "colab": {
          "base_uri": "https://localhost:8080/"
        },
        "id": "jgBhbh7-zOPS",
        "outputId": "7145be93-9fc7-434a-ac97-f982675f6126"
      },
      "source": [
        "print(df_participant.info())"
      ],
      "execution_count": 41,
      "outputs": [
        {
          "output_type": "stream",
          "name": "stdout",
          "text": [
            "<class 'pandas.core.frame.DataFrame'>\n",
            "RangeIndex: 5000 entries, 0 to 4999\n",
            "Data columns (total 17 columns):\n",
            " #   Column                Non-Null Count  Dtype         \n",
            "---  ------                --------------  -----         \n",
            " 0   participant_id        5000 non-null   object        \n",
            " 1   first_name            5000 non-null   object        \n",
            " 2   last_name             5000 non-null   object        \n",
            " 3   birth_date            5000 non-null   datetime64[ns]\n",
            " 4   address               5000 non-null   object        \n",
            " 5   phone_number          5000 non-null   object        \n",
            " 6   country               5000 non-null   object        \n",
            " 7   institute             5000 non-null   object        \n",
            " 8   occupation            5000 non-null   object        \n",
            " 9   register_time         5000 non-null   float64       \n",
            " 10  postal_code           5000 non-null   object        \n",
            " 11  city                  5000 non-null   object        \n",
            " 12  github_profile        5000 non-null   object        \n",
            " 13  cleaned_phone_number  5000 non-null   object        \n",
            " 14  team_name             5000 non-null   object        \n",
            " 15  email                 5000 non-null   object        \n",
            " 16  register_at           5000 non-null   datetime64[ns]\n",
            "dtypes: datetime64[ns](2), float64(1), object(14)\n",
            "memory usage: 664.2+ KB\n",
            "None\n"
          ]
        }
      ]
    },
    {
      "cell_type": "markdown",
      "metadata": {
        "id": "GfA5_Suw4VMF"
      },
      "source": [
        "Dari data kolom sebelumnya saat proses extract, ada beberapa kolom tambahan yang didapatkan dengan memanfaatkan kolom. Saat ini dataset memuat 16 kolom."
      ]
    }
  ]
}